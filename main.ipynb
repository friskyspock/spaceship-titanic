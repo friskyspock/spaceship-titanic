{
 "cells": [
  {
   "cell_type": "code",
   "execution_count": 1,
   "metadata": {},
   "outputs": [],
   "source": [
    "import pandas as pd\n",
    "import seaborn as sns"
   ]
  },
  {
   "cell_type": "code",
   "execution_count": 2,
   "metadata": {},
   "outputs": [],
   "source": [
    "raw_train_data = pd.read_csv('train.csv')\n",
    "raw_test_data = pd.read_csv('test.csv')"
   ]
  },
  {
   "cell_type": "code",
   "execution_count": 3,
   "metadata": {},
   "outputs": [],
   "source": [
    "def my_analysis(dataset):\n",
    "    df = pd.DataFrame(columns=['Datatype', 'NA values %', 'Unique values', 'frequent value', 'contribution %', 'min value'])\n",
    "    length = len(dataset.index)\n",
    "    for col in dataset.columns:\n",
    "        row_df = pd.DataFrame({\n",
    "                                'Datatype':dataset[col].dtype,\n",
    "                                'NA percentage':round(dataset[col].isna().sum()*100/length,2),\n",
    "                                'Unique values':dataset[col].nunique(),\n",
    "                                'mode':dataset[col].value_counts().index[0],\n",
    "                                'mode contribution %':round(dataset[col].value_counts()[0]*100/length,2),\n",
    "                                'min value':'none' if dataset[col].dtype=='object' else dataset[col].min(),\n",
    "                                'max value':'none' if dataset[col].dtype=='object' else dataset[col].max()\n",
    "                                },\n",
    "                                index=[col])\n",
    "        df = pd.concat([df,row_df])\n",
    "    return df"
   ]
  },
  {
   "attachments": {},
   "cell_type": "markdown",
   "metadata": {},
   "source": [
    "#### Extracting important information from some columns\n",
    "\n",
    "- **PassengerId** column:\\\n",
    "    As per data description, *'This is an unique Id for each passenger. Each Id takes the form gggg_pp where gggg indicates a group the passenger is travelling with and pp is their number within the group. People in a group are often family members, but not always.'*\\\n",
    "    We will make two new columns as **Group** and **PeopleId** \n",
    "    \n",
    "    \n",
    "- **Cabin** column:\\\n",
    "    As per data description, *'The cabin number where the passenger is staying. Takes the form deck/num/side, where side can be either P for Port or S for Starboard.'*\\\n",
    "    We will split this column into **Deck**, **Num** and **Side**.\n"
   ]
  },
  {
   "cell_type": "code",
   "execution_count": 4,
   "metadata": {},
   "outputs": [],
   "source": [
    "train_data = raw_train_data[raw_train_data['Cabin'].notna()]"
   ]
  },
  {
   "cell_type": "code",
   "execution_count": 5,
   "metadata": {},
   "outputs": [],
   "source": [
    "def split_columns(raw_dataset):\n",
    "    dataset = raw_dataset.copy()\n",
    "\n",
    "    dataset['Group'] = dataset['PassengerId'].str[:4].astype(float)\n",
    "    dataset['PeopleId'] = dataset['PassengerId'].str[-2:].astype(float)\n",
    "    \n",
    "    dataset['Deck'] = dataset['Cabin'].str[0]\n",
    "    dataset['Num'] = dataset['Cabin'].str[2:-2].astype(float)\n",
    "    dataset['Side'] = dataset['Cabin'].str[-1]\n",
    "\n",
    "    dataset = dataset.drop(['PassengerId','Cabin'], axis=1)\n",
    "    return dataset\n",
    "\n",
    "\n",
    "train_data = split_columns(train_data)\n",
    "test_data = split_columns(raw_test_data)"
   ]
  },
  {
   "attachments": {},
   "cell_type": "markdown",
   "metadata": {},
   "source": [
    "##### Removing unneccessary columns\n",
    "Since column **Name** won't really help in training algorithm, we will remove it from our data"
   ]
  },
  {
   "cell_type": "code",
   "execution_count": 7,
   "metadata": {},
   "outputs": [],
   "source": [
    "remove_columns = ['Name']\n",
    "\n",
    "train_data = train_data.drop(remove_columns, axis=1)\n",
    "test_data = test_data.drop(remove_columns, axis=1)"
   ]
  },
  {
   "attachments": {},
   "cell_type": "markdown",
   "metadata": {},
   "source": [
    "##### Filling Missing Values"
   ]
  },
  {
   "cell_type": "code",
   "execution_count": 9,
   "metadata": {},
   "outputs": [],
   "source": [
    "mode_columns = ['HomePlanet','CryoSleep','Destination','Age','VIP','RoomService','FoodCourt','ShoppingMall','Spa','VRDeck']\n",
    "\n",
    "def fillmode(dataset,catcol):\n",
    "    for col in catcol:\n",
    "        dataset[col].fillna(dataset[col].mode()[0], inplace=True)\n",
    "\n",
    "fillmode(train_data,mode_columns)\n",
    "fillmode(test_data,mode_columns)"
   ]
  },
  {
   "attachments": {},
   "cell_type": "markdown",
   "metadata": {},
   "source": [
    "##### Categorical columns"
   ]
  },
  {
   "cell_type": "code",
   "execution_count": 11,
   "metadata": {},
   "outputs": [],
   "source": [
    "boolean_columns = ['CryoSleep','VIP']\n",
    "\n",
    "def boolean_to_num(dataset,columns):\n",
    "    for col in columns:\n",
    "        dataset[col] = dataset[col].astype(int)\n",
    "\n",
    "boolean_to_num(train_data,boolean_columns)\n",
    "boolean_to_num(test_data,boolean_columns)"
   ]
  },
  {
   "cell_type": "code",
   "execution_count": 16,
   "metadata": {},
   "outputs": [],
   "source": [
    "categorical_columns = ['HomePlanet','Destination','Deck','Side']\n",
    "\n",
    "from sklearn.preprocessing import OneHotEncoder\n",
    "\n",
    "ohe = OneHotEncoder(handle_unknown='ignore', sparse_output=False)\n",
    "df1 = pd.DataFrame(ohe.fit_transform(train_data[categorical_columns]))\n",
    "df1.index = train_data.index\n",
    "train_data = train_data.drop(categorical_columns, axis=1)\n",
    "train_data = pd.concat([train_data,df1], axis=1)\n",
    "\n",
    "df2 = pd.DataFrame(ohe.transform(test_data[categorical_columns]))\n",
    "df2.index = test_data.index\n",
    "test_data = test_data.drop(categorical_columns, axis=1)\n",
    "test_data = pd.concat([test_data,df2], axis=1)"
   ]
  },
  {
   "cell_type": "code",
   "execution_count": 18,
   "metadata": {},
   "outputs": [],
   "source": [
    "from sklearn.model_selection import train_test_split\n",
    "\n",
    "y = train_data['Transported'].astype(int)\n",
    "x = train_data.drop('Transported', axis=1)\n",
    "x_train, x_val, y_train, y_val = train_test_split(x,y,test_size=0.1,random_state=42)"
   ]
  },
  {
   "attachments": {},
   "cell_type": "markdown",
   "metadata": {},
   "source": [
    "#### Model: XGBoost"
   ]
  },
  {
   "cell_type": "code",
   "execution_count": 19,
   "metadata": {},
   "outputs": [
    {
     "name": "stdout",
     "output_type": "stream",
     "text": [
      "[0]\tvalidation_0-logloss:0.58744\n",
      "[1]\tvalidation_0-logloss:0.52452\n",
      "[2]\tvalidation_0-logloss:0.48801\n",
      "[3]\tvalidation_0-logloss:0.46351\n",
      "[4]\tvalidation_0-logloss:0.44382\n",
      "[5]\tvalidation_0-logloss:0.43195\n",
      "[6]\tvalidation_0-logloss:0.42102\n",
      "[7]\tvalidation_0-logloss:0.41256\n",
      "[8]\tvalidation_0-logloss:0.40661\n",
      "[9]\tvalidation_0-logloss:0.40019\n",
      "[10]\tvalidation_0-logloss:0.39528\n",
      "[11]\tvalidation_0-logloss:0.39280\n",
      "[12]\tvalidation_0-logloss:0.39145\n",
      "[13]\tvalidation_0-logloss:0.39054\n",
      "[14]\tvalidation_0-logloss:0.38917\n",
      "[15]\tvalidation_0-logloss:0.38843\n",
      "[16]\tvalidation_0-logloss:0.38735\n",
      "[17]\tvalidation_0-logloss:0.38718\n",
      "[18]\tvalidation_0-logloss:0.38764\n",
      "[19]\tvalidation_0-logloss:0.38763\n",
      "[20]\tvalidation_0-logloss:0.38685\n",
      "[21]\tvalidation_0-logloss:0.38582\n",
      "[22]\tvalidation_0-logloss:0.38658\n",
      "[23]\tvalidation_0-logloss:0.38566\n",
      "[24]\tvalidation_0-logloss:0.38737\n",
      "[25]\tvalidation_0-logloss:0.38670\n",
      "[26]\tvalidation_0-logloss:0.38563\n",
      "[27]\tvalidation_0-logloss:0.38531\n",
      "[28]\tvalidation_0-logloss:0.38499\n",
      "[29]\tvalidation_0-logloss:0.38506\n",
      "[30]\tvalidation_0-logloss:0.38536\n",
      "[31]\tvalidation_0-logloss:0.38491\n",
      "[32]\tvalidation_0-logloss:0.38341\n",
      "[33]\tvalidation_0-logloss:0.38392\n",
      "[34]\tvalidation_0-logloss:0.38249\n",
      "[35]\tvalidation_0-logloss:0.38284\n",
      "[36]\tvalidation_0-logloss:0.38248\n",
      "[37]\tvalidation_0-logloss:0.38404\n",
      "[38]\tvalidation_0-logloss:0.38429\n",
      "[39]\tvalidation_0-logloss:0.38445\n",
      "[40]\tvalidation_0-logloss:0.38518\n",
      "[41]\tvalidation_0-logloss:0.38457\n"
     ]
    },
    {
     "data": {
      "text/html": [
       "<style>#sk-container-id-1 {color: black;background-color: white;}#sk-container-id-1 pre{padding: 0;}#sk-container-id-1 div.sk-toggleable {background-color: white;}#sk-container-id-1 label.sk-toggleable__label {cursor: pointer;display: block;width: 100%;margin-bottom: 0;padding: 0.3em;box-sizing: border-box;text-align: center;}#sk-container-id-1 label.sk-toggleable__label-arrow:before {content: \"▸\";float: left;margin-right: 0.25em;color: #696969;}#sk-container-id-1 label.sk-toggleable__label-arrow:hover:before {color: black;}#sk-container-id-1 div.sk-estimator:hover label.sk-toggleable__label-arrow:before {color: black;}#sk-container-id-1 div.sk-toggleable__content {max-height: 0;max-width: 0;overflow: hidden;text-align: left;background-color: #f0f8ff;}#sk-container-id-1 div.sk-toggleable__content pre {margin: 0.2em;color: black;border-radius: 0.25em;background-color: #f0f8ff;}#sk-container-id-1 input.sk-toggleable__control:checked~div.sk-toggleable__content {max-height: 200px;max-width: 100%;overflow: auto;}#sk-container-id-1 input.sk-toggleable__control:checked~label.sk-toggleable__label-arrow:before {content: \"▾\";}#sk-container-id-1 div.sk-estimator input.sk-toggleable__control:checked~label.sk-toggleable__label {background-color: #d4ebff;}#sk-container-id-1 div.sk-label input.sk-toggleable__control:checked~label.sk-toggleable__label {background-color: #d4ebff;}#sk-container-id-1 input.sk-hidden--visually {border: 0;clip: rect(1px 1px 1px 1px);clip: rect(1px, 1px, 1px, 1px);height: 1px;margin: -1px;overflow: hidden;padding: 0;position: absolute;width: 1px;}#sk-container-id-1 div.sk-estimator {font-family: monospace;background-color: #f0f8ff;border: 1px dotted black;border-radius: 0.25em;box-sizing: border-box;margin-bottom: 0.5em;}#sk-container-id-1 div.sk-estimator:hover {background-color: #d4ebff;}#sk-container-id-1 div.sk-parallel-item::after {content: \"\";width: 100%;border-bottom: 1px solid gray;flex-grow: 1;}#sk-container-id-1 div.sk-label:hover label.sk-toggleable__label {background-color: #d4ebff;}#sk-container-id-1 div.sk-serial::before {content: \"\";position: absolute;border-left: 1px solid gray;box-sizing: border-box;top: 0;bottom: 0;left: 50%;z-index: 0;}#sk-container-id-1 div.sk-serial {display: flex;flex-direction: column;align-items: center;background-color: white;padding-right: 0.2em;padding-left: 0.2em;position: relative;}#sk-container-id-1 div.sk-item {position: relative;z-index: 1;}#sk-container-id-1 div.sk-parallel {display: flex;align-items: stretch;justify-content: center;background-color: white;position: relative;}#sk-container-id-1 div.sk-item::before, #sk-container-id-1 div.sk-parallel-item::before {content: \"\";position: absolute;border-left: 1px solid gray;box-sizing: border-box;top: 0;bottom: 0;left: 50%;z-index: -1;}#sk-container-id-1 div.sk-parallel-item {display: flex;flex-direction: column;z-index: 1;position: relative;background-color: white;}#sk-container-id-1 div.sk-parallel-item:first-child::after {align-self: flex-end;width: 50%;}#sk-container-id-1 div.sk-parallel-item:last-child::after {align-self: flex-start;width: 50%;}#sk-container-id-1 div.sk-parallel-item:only-child::after {width: 0;}#sk-container-id-1 div.sk-dashed-wrapped {border: 1px dashed gray;margin: 0 0.4em 0.5em 0.4em;box-sizing: border-box;padding-bottom: 0.4em;background-color: white;}#sk-container-id-1 div.sk-label label {font-family: monospace;font-weight: bold;display: inline-block;line-height: 1.2em;}#sk-container-id-1 div.sk-label-container {text-align: center;}#sk-container-id-1 div.sk-container {/* jupyter's `normalize.less` sets `[hidden] { display: none; }` but bootstrap.min.css set `[hidden] { display: none !important; }` so we also need the `!important` here to be able to override the default hidden behavior on the sphinx rendered scikit-learn.org. See: https://github.com/scikit-learn/scikit-learn/issues/21755 */display: inline-block !important;position: relative;}#sk-container-id-1 div.sk-text-repr-fallback {display: none;}</style><div id=\"sk-container-id-1\" class=\"sk-top-container\"><div class=\"sk-text-repr-fallback\"><pre>XGBClassifier(base_score=None, booster=None, callbacks=None,\n",
       "              colsample_bylevel=None, colsample_bynode=None,\n",
       "              colsample_bytree=None, early_stopping_rounds=5,\n",
       "              enable_categorical=False, eval_metric=None, feature_types=None,\n",
       "              gamma=None, gpu_id=None, grow_policy=None, importance_type=None,\n",
       "              interaction_constraints=None, learning_rate=None, max_bin=None,\n",
       "              max_cat_threshold=None, max_cat_to_onehot=None,\n",
       "              max_delta_step=None, max_depth=None, max_leaves=None,\n",
       "              min_child_weight=None, missing=nan, monotone_constraints=None,\n",
       "              n_estimators=500, n_jobs=None, num_parallel_tree=None,\n",
       "              predictor=None, random_state=None, ...)</pre><b>In a Jupyter environment, please rerun this cell to show the HTML representation or trust the notebook. <br />On GitHub, the HTML representation is unable to render, please try loading this page with nbviewer.org.</b></div><div class=\"sk-container\" hidden><div class=\"sk-item\"><div class=\"sk-estimator sk-toggleable\"><input class=\"sk-toggleable__control sk-hidden--visually\" id=\"sk-estimator-id-1\" type=\"checkbox\" checked><label for=\"sk-estimator-id-1\" class=\"sk-toggleable__label sk-toggleable__label-arrow\">XGBClassifier</label><div class=\"sk-toggleable__content\"><pre>XGBClassifier(base_score=None, booster=None, callbacks=None,\n",
       "              colsample_bylevel=None, colsample_bynode=None,\n",
       "              colsample_bytree=None, early_stopping_rounds=5,\n",
       "              enable_categorical=False, eval_metric=None, feature_types=None,\n",
       "              gamma=None, gpu_id=None, grow_policy=None, importance_type=None,\n",
       "              interaction_constraints=None, learning_rate=None, max_bin=None,\n",
       "              max_cat_threshold=None, max_cat_to_onehot=None,\n",
       "              max_delta_step=None, max_depth=None, max_leaves=None,\n",
       "              min_child_weight=None, missing=nan, monotone_constraints=None,\n",
       "              n_estimators=500, n_jobs=None, num_parallel_tree=None,\n",
       "              predictor=None, random_state=None, ...)</pre></div></div></div></div></div>"
      ],
      "text/plain": [
       "XGBClassifier(base_score=None, booster=None, callbacks=None,\n",
       "              colsample_bylevel=None, colsample_bynode=None,\n",
       "              colsample_bytree=None, early_stopping_rounds=5,\n",
       "              enable_categorical=False, eval_metric=None, feature_types=None,\n",
       "              gamma=None, gpu_id=None, grow_policy=None, importance_type=None,\n",
       "              interaction_constraints=None, learning_rate=None, max_bin=None,\n",
       "              max_cat_threshold=None, max_cat_to_onehot=None,\n",
       "              max_delta_step=None, max_depth=None, max_leaves=None,\n",
       "              min_child_weight=None, missing=nan, monotone_constraints=None,\n",
       "              n_estimators=500, n_jobs=None, num_parallel_tree=None,\n",
       "              predictor=None, random_state=None, ...)"
      ]
     },
     "execution_count": 19,
     "metadata": {},
     "output_type": "execute_result"
    }
   ],
   "source": [
    "from xgboost import XGBClassifier\n",
    "\n",
    "xgb = XGBClassifier(n_estimators=500, early_stopping_rounds=10)\n",
    "xgb.fit(x_train,y_train,eval_set=[(x_val,y_val)])"
   ]
  },
  {
   "cell_type": "code",
   "execution_count": 20,
   "metadata": {},
   "outputs": [],
   "source": [
    "result = xgb.predict(test_data)\n",
    "final_data = pd.read_csv('test.csv')\n",
    "result = [bool(x) for x in result]\n",
    "\n",
    "df = pd.DataFrame({'PassengerId': final_data['PassengerId'], 'Transported': result})\n",
    "df.to_csv('submission.csv',index=False)"
   ]
  }
 ],
 "metadata": {
  "kernelspec": {
   "display_name": "Python 3",
   "language": "python",
   "name": "python3"
  },
  "language_info": {
   "codemirror_mode": {
    "name": "ipython",
    "version": 3
   },
   "file_extension": ".py",
   "mimetype": "text/x-python",
   "name": "python",
   "nbconvert_exporter": "python",
   "pygments_lexer": "ipython3",
   "version": "3.11.1"
  },
  "orig_nbformat": 4,
  "vscode": {
   "interpreter": {
    "hash": "71ce2b37d068746d6319cfebb01c1cb1b7b9360c2e66c0d2761ec509a11075b7"
   }
  }
 },
 "nbformat": 4,
 "nbformat_minor": 2
}
