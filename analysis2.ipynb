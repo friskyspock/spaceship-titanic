{
 "cells": [
  {
   "cell_type": "code",
   "execution_count": 1,
   "metadata": {},
   "outputs": [],
   "source": [
    "import pandas as pd\n",
    "import seaborn as sns\n",
    "import matplotlib.pyplot as plt"
   ]
  },
  {
   "cell_type": "code",
   "execution_count": 2,
   "metadata": {},
   "outputs": [],
   "source": [
    "train_data = pd.read_csv('train.csv')\n",
    "test_data = pd.read_csv('test.csv')"
   ]
  },
  {
   "cell_type": "code",
   "execution_count": 3,
   "metadata": {},
   "outputs": [],
   "source": [
    "train_data['Group'] = train_data['PassengerId'].str[:4].astype(float)\n",
    "train_data['PeopleId'] = train_data['PassengerId'].str[-2:].astype(float)\n",
    "\n",
    "test_data['Group'] = test_data['PassengerId'].str[:4].astype(float)\n",
    "test_data['PeopleId'] = test_data['PassengerId'].str[-2:].astype(float)\n",
    "\n",
    "train_data = train_data.drop('PassengerId', axis=1)\n",
    "test_data = test_data.drop('PassengerId', axis=1)"
   ]
  },
  {
   "cell_type": "code",
   "execution_count": null,
   "metadata": {},
   "outputs": [],
   "source": [
    "train_data['Data'] = \"train\"\n",
    "test_data['Data'] = \"test\"\n",
    "\n",
    "all_data = pd.concat([train_data,test_data], axis=0)\n",
    "\n",
    "all_data.replace({False: 0, True: 1}, inplace=True)"
   ]
  },
  {
   "cell_type": "code",
   "execution_count": null,
   "metadata": {},
   "outputs": [],
   "source": [
    "from sklearn.preprocessing import MinMaxScaler\n",
    "\n",
    "scaler = MinMaxScaler()\n",
    "x = pd.DataFrame(scaler.fit_transform(all_data), columns=['RoomService','FoodCourt','ShoppingMall','Spa','VRDeck'])"
   ]
  },
  {
   "cell_type": "code",
   "execution_count": null,
   "metadata": {},
   "outputs": [],
   "source": [
    "def my_analysis(dataset):\n",
    "    df = pd.DataFrame()\n",
    "    length = len(dataset.index)\n",
    "    for col in dataset.columns:\n",
    "        row_df = pd.DataFrame({'Datatype':dataset[col].dtype,\n",
    "                                'NA values %':round(dataset[col].isna().sum()*100/length,2),\n",
    "                                'Unique values':dataset[col].nunique(),\n",
    "                                'frequent value':dataset[col].value_counts().index[0],\n",
    "                                'contribution %':round(dataset[col].value_counts().iloc[0]*100/length,2),\n",
    "                                'min value':'none' if dataset[col].dtype=='object' else dataset[col].min(),\n",
    "                                'max value':'none' if dataset[col].dtype=='object' else dataset[col].max()\n",
    "                                },\n",
    "                                index=[col])\n",
    "        df = pd.concat([df,row_df])\n",
    "    return df"
   ]
  },
  {
   "cell_type": "code",
   "execution_count": null,
   "metadata": {},
   "outputs": [],
   "source": [
    "my_analysis(all_data)"
   ]
  },
  {
   "cell_type": "code",
   "execution_count": null,
   "metadata": {},
   "outputs": [],
   "source": [
    "billing_data = all_data[['Age','HomePlanet','VIP','RoomService','FoodCourt','ShoppingMall','Spa','VRDeck']]\n",
    "\n",
    "bin_edges = [0.0,10.0,20.0,30.0,40.0,50.0,60.0,70.0,80.0]\n",
    "bin_names = ['0-10','10-20','20-30','30-40','40-50','50-60','60-70','70-80']\n",
    "billing_data['AgeGroup'] = pd.cut(billing_data['Age'], bin_edges, labels=bin_names)\n",
    "\n",
    "plt.figure(figsize=(15,8))\n",
    "plt.subplot(2,3,1)\n",
    "sns.histplot(billing_data['Age'], kde=True)\n",
    "plt.subplot(2,3,2)\n",
    "sns.barplot(x='AgeGroup',y='RoomService', data=billing_data)\n",
    "plt.subplot(2,3,3)\n",
    "sns.barplot(x='AgeGroup',y='FoodCourt', data=billing_data)\n",
    "plt.subplot(2,3,4)\n",
    "sns.barplot(x='AgeGroup',y='ShoppingMall', data=billing_data)\n",
    "plt.subplot(2,3,5)\n",
    "sns.barplot(x='AgeGroup',y='Spa', data=billing_data)\n",
    "plt.subplot(2,3,6)\n",
    "sns.barplot(x='AgeGroup',y='VRDeck', data=billing_data)"
   ]
  },
  {
   "cell_type": "code",
   "execution_count": null,
   "metadata": {},
   "outputs": [],
   "source": [
    "plt.figure(figsize=(12,6))\n",
    "ax1 = plt.subplot(2,3,1)\n",
    "ax1.set_title('Number of VIPs')\n",
    "pd.crosstab(all_data['HomePlanet'],all_data['VIP']).plot(kind='bar', ax=ax1, rot=0)\n",
    "ax2 = plt.subplot(2,3,2)\n",
    "ax2.set_title('RoomService')\n",
    "sns.barplot(x=\"HomePlanet\", y=\"RoomService\", hue=\"VIP\", data=all_data)\n",
    "ax3 = plt.subplot(2,3,3)\n",
    "ax3.set_title('FoodCourt')\n",
    "sns.barplot(x=\"HomePlanet\", y=\"FoodCourt\", hue=\"VIP\", data=all_data)\n",
    "ax4 = plt.subplot(2,3,4)\n",
    "ax4.set_title('ShoppingMall')\n",
    "sns.barplot(x=\"HomePlanet\", y=\"ShoppingMall\", hue=\"VIP\", data=all_data)\n",
    "ax5 = plt.subplot(2,3,5)\n",
    "ax5.set_title('Spa')\n",
    "sns.barplot(x=\"HomePlanet\", y=\"Spa\", hue=\"VIP\", data=all_data)\n",
    "ax6 = plt.subplot(2,3,6)\n",
    "ax6.set_title('VRDeck')\n",
    "sns.barplot(x=\"HomePlanet\", y=\"VRDeck\", hue=\"VIP\", data=all_data)\n",
    "plt.tight_layout()"
   ]
  },
  {
   "cell_type": "code",
   "execution_count": null,
   "metadata": {},
   "outputs": [],
   "source": [
    "test = all_data[['Age','HomePlanet','VIP','RoomService','FoodCourt','ShoppingMall','Spa','VRDeck']]\n",
    "\n",
    "test['Age'].fillna(all_data['Age'].median(), inplace=True)\n",
    "test['HomePlanet'].fillna(all_data['HomePlanet'].mode()[0], inplace=True)\n",
    "test['VIP'].fillna(all_data['VIP'].mode()[0], inplace=True)\n",
    "\n",
    "df = pd.get_dummies(test['HomePlanet'])\n",
    "test = pd.concat([test, df], axis=1)"
   ]
  },
  {
   "cell_type": "code",
   "execution_count": null,
   "metadata": {},
   "outputs": [],
   "source": [
    "fillcolumns = ['RoomService','FoodCourt','ShoppingMall','Spa','VRDeck']\n",
    "for column in fillcolumns:\n",
    "    columnlist = ['Age','HomePlanet','VIP']\n",
    "    columnlist.append(column)\n",
    "    train = all_data[columnlist]\n",
    "    train.dropna(inplace=True)\n",
    "\n",
    "    df = pd.get_dummies(train['HomePlanet'])\n",
    "    train = pd.concat([train,df], axis=1)\n",
    "\n",
    "    x_test = test[['Age','VIP','Earth','Europa','Mars']]\n",
    "\n",
    "    y_data = train[column]\n",
    "    x_data = train.drop([column,'HomePlanet'], axis=1)\n",
    "\n",
    "    from sklearn.model_selection import train_test_split\n",
    "    x_train, x_val, y_train, y_val = train_test_split(x_data,y_data,test_size=0.1,random_state=42)\n",
    "\n",
    "    from xgboost import XGBRegressor\n",
    "\n",
    "    xgb = XGBRegressor(n_estimators=500, early_stopping_rounds=5)\n",
    "    xgb.fit(x_train,y_train,eval_set=[(x_val,y_val)])\n",
    "\n",
    "    result = xgb.predict(x_test)\n",
    "\n",
    "    x_test[column] = result\n",
    "    all_data[column].fillna(x_test[column], inplace=True)"
   ]
  },
  {
   "cell_type": "code",
   "execution_count": null,
   "metadata": {},
   "outputs": [],
   "source": [
    "all_data.isna().sum()"
   ]
  },
  {
   "cell_type": "code",
   "execution_count": null,
   "metadata": {},
   "outputs": [],
   "source": [
    "all_data['Deck'] = all_data['Cabin'].str[0]\n",
    "all_data['Num'] = all_data['Cabin'].str[2:-2].astype(float)\n",
    "all_data['Side'] = all_data['Cabin'].str[-1]\n",
    "\n",
    "all_data = all_data.drop('Name', axis=1)"
   ]
  },
  {
   "cell_type": "code",
   "execution_count": null,
   "metadata": {},
   "outputs": [],
   "source": [
    "for col in ['HomePlanet','CryoSleep','Destination','Age','VIP']:\n",
    "    all_data[col].fillna(all_data[col].mode()[0], inplace=True)"
   ]
  },
  {
   "cell_type": "code",
   "execution_count": null,
   "metadata": {},
   "outputs": [],
   "source": [
    "categorical_columns = ['HomePlanet','Destination']#,'Deck','Side']\n",
    "\n",
    "all_data = pd.get_dummies(all_data, columns=categorical_columns)"
   ]
  },
  {
   "cell_type": "code",
   "execution_count": null,
   "metadata": {},
   "outputs": [],
   "source": [
    "train_data = all_data[all_data['Data']==\"train\"]\n",
    "test_data = all_data[all_data['Data']==\"test\"]\n",
    "\n",
    "train_data = train_data.drop('Data', axis=1)\n",
    "test_data = test_data.drop(['Data','Transported'], axis=1)"
   ]
  },
  {
   "cell_type": "code",
   "execution_count": null,
   "metadata": {},
   "outputs": [],
   "source": [
    "train_data = train_data[train_data['Cabin'].notna()]\n",
    "train_data = train_data.drop('Cabin', axis=1)\n",
    "test_data = test_data.drop('Cabin', axis=1)"
   ]
  },
  {
   "cell_type": "code",
   "execution_count": null,
   "metadata": {},
   "outputs": [],
   "source": [
    "train_data.to_csv('cleaned_train.csv', index=False)\n",
    "test_data.to_csv('cleaned_test.csv', index=False)"
   ]
  }
 ],
 "metadata": {
  "kernelspec": {
   "display_name": "Python 3",
   "language": "python",
   "name": "python3"
  },
  "language_info": {
   "codemirror_mode": {
    "name": "ipython",
    "version": 3
   },
   "file_extension": ".py",
   "mimetype": "text/x-python",
   "name": "python",
   "nbconvert_exporter": "python",
   "pygments_lexer": "ipython3",
   "version": "3.11.1"
  },
  "orig_nbformat": 4,
  "vscode": {
   "interpreter": {
    "hash": "71ce2b37d068746d6319cfebb01c1cb1b7b9360c2e66c0d2761ec509a11075b7"
   }
  }
 },
 "nbformat": 4,
 "nbformat_minor": 2
}
